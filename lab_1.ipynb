{
 "cells": [
  {
   "cell_type": "code",
   "execution_count": 3,
   "id": "0db3942c-f16a-4bb1-b05b-898462d6d5f3",
   "metadata": {},
   "outputs": [
    {
     "name": "stdout",
     "output_type": "stream",
     "text": [
      "✅ Data successfully saved at: C:\\Users\\Chetana S\\remoteok_jobs.csv\n",
      "         Company Name                        Job Role                Location  \\\n",
      "0  Sanctuary Computer          Senior Elixir Engineer    Remote/Not Specified   \n",
      "1            P2P. org                    Data Analyst                   Delhi   \n",
      "2         Ethena Labs  Senior Staff Security Engineer         Globally Remote   \n",
      "3            GoMining             VIP Support Manager    Remote/Not Specified   \n",
      "4  The Trevor Project       Public Training Associate  Remote - United States   \n",
      "\n",
      "                                       Features/Tags            Timestamp  \n",
      "0  backend, dev, django, exec, full stack, javasc...  2025-08-15 10:36:24  \n",
      "1  analyst, api, consultancy, crypto, defi, finan...  2025-08-15 10:36:24  \n",
      "2  crypto, defi, devops, engineer, engineering, e...  2025-08-15 10:36:24  \n",
      "3  crypto, defi, management, manager, non tech, s...  2025-08-15 10:36:24  \n",
      "4  education, educational, financial, health, leg...  2025-08-15 10:36:24  \n"
     ]
    }
   ],
   "source": [
    "# 📌 RemoteOK Data Collection (Improved Version)\n",
    "\n",
    "import requests\n",
    "import pandas as pd\n",
    "from datetime import datetime\n",
    "import os\n",
    "\n",
    "# Step 1: API Endpoint\n",
    "url = \"https://remoteok.com/api\"\n",
    "\n",
    "try:\n",
    "    # Step 2: Fetch Data\n",
    "    response = requests.get(url)\n",
    "    response.raise_for_status()  # raises error if status != 200\n",
    "    data = response.json()\n",
    "except Exception as e:\n",
    "    print(\"❌ Error fetching data:\", e)\n",
    "    data = []\n",
    "\n",
    "# Step 3: Extract Required Fields\n",
    "jobs = []\n",
    "for job in data[1:]:  # skip metadata\n",
    "    company = job.get(\"company\", \"Not Provided\")\n",
    "    role = job.get(\"position\", \"Not Provided\")\n",
    "    location = job.get(\"location\") or \"Remote/Not Specified\"\n",
    "    tags = job.get(\"tags\", [])\n",
    "    tags_clean = \", \".join(sorted(tags)) if tags else \"None\"\n",
    "    \n",
    "    job_info = {\n",
    "        \"Company Name\": company,\n",
    "        \"Job Role\": role,\n",
    "        \"Location\": location,\n",
    "        \"Features/Tags\": tags_clean,\n",
    "        \"Timestamp\": datetime.now().strftime(\"%Y-%m-%d %H:%M:%S\")\n",
    "    }\n",
    "    jobs.append(job_info)\n",
    "\n",
    "# Step 4: Convert to DataFrame\n",
    "df = pd.DataFrame(jobs)\n",
    "\n",
    "# Step 5: Save to CSV\n",
    "save_path = os.path.join(os.getcwd(), \"remoteok_jobs.csv\")\n",
    "df.to_csv(save_path, index=False)\n",
    "\n",
    "print(\"✅ Data successfully saved at:\", save_path)\n",
    "print(df.head())\n"
   ]
  },
  {
   "cell_type": "code",
   "execution_count": null,
   "id": "f1584934-247a-48c2-adbf-40ac0bfadea2",
   "metadata": {},
   "outputs": [],
   "source": []
  }
 ],
 "metadata": {
  "kernelspec": {
   "display_name": "Python 3 (ipykernel)",
   "language": "python",
   "name": "python3"
  },
  "language_info": {
   "codemirror_mode": {
    "name": "ipython",
    "version": 3
   },
   "file_extension": ".py",
   "mimetype": "text/x-python",
   "name": "python",
   "nbconvert_exporter": "python",
   "pygments_lexer": "ipython3",
   "version": "3.13.5"
  }
 },
 "nbformat": 4,
 "nbformat_minor": 5
}
